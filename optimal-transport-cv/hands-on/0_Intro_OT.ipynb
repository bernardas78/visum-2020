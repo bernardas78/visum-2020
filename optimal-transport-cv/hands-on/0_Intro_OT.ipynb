{
 "cells": [
  {
   "cell_type": "markdown",
   "metadata": {
    "slideshow": {
     "slide_type": "slide"
    }
   },
   "source": [
    "# Introduction to Optimal Transport with Python\n",
    "\n",
    "#### *Rémi Flamary, Nicolas Courty*"
   ]
  },
  {
   "cell_type": "markdown",
   "metadata": {
    "slideshow": {
     "slide_type": "slide"
    }
   },
   "source": [
    "## POT Installation"
   ]
  },
  {
   "cell_type": "markdown",
   "metadata": {},
   "source": [
    "### Install with pip:\n",
    "```bash\n",
    "pip install pot\n",
    "```\n",
    "### Install with conda\n",
    "```bash\n",
    "conda install -c conda-forge pot\n",
    "```"
   ]
  },
  {
   "cell_type": "code",
   "execution_count": null,
   "metadata": {},
   "outputs": [],
   "source": [
    "# Uncomment the next line if you need to install some Python packages first\n",
    "# !pip install numpy scipy matplotlib ipython jupyter pandas sympy nose\n",
    "\n",
    "# AND\n",
    "\n",
    "# Uncomment next line if you wish to install with pip\n",
    "# !pip install pot\n",
    "\n",
    "# OR\n",
    "\n",
    "# Uncomment next line if you wish to install with conda\n",
    "# !conda install -c conda-forge pot"
   ]
  },
  {
   "cell_type": "markdown",
   "metadata": {
    "slideshow": {
     "slide_type": "slide"
    }
   },
   "source": [
    "## POT Python Optimal Transport Toolbox\n",
    "\n",
    "#### Import the toolbox"
   ]
  },
  {
   "cell_type": "code",
   "execution_count": null,
   "metadata": {},
   "outputs": [],
   "source": [
    "import numpy as np # always need it\n",
    "import scipy as sp # often use it\n",
    "import pylab as pl # do the plots\n",
    "\n",
    "import ot # ot"
   ]
  },
  {
   "cell_type": "markdown",
   "metadata": {},
   "source": [
    "#### Getting help\n",
    "\n",
    "Online  documentation : [http://pot.readthedocs.io](http://pot.readthedocs.io) \n",
    "\n",
    "Or inline help:\n"
   ]
  },
  {
   "cell_type": "code",
   "execution_count": null,
   "metadata": {},
   "outputs": [],
   "source": [
    "help(ot.dist)"
   ]
  },
  {
   "cell_type": "markdown",
   "metadata": {
    "slideshow": {
     "slide_type": "slide"
    }
   },
   "source": [
    "## First OT Problem\n",
    "\n",
    "We will solve the Bakery/Cafés problem of transporting croissants from several Bakeries to Cafés in a City (In this case Manhattan). We did a quick google map search in Manhattan for bakeries and Cafés:\n",
    "\n",
    "![bak.png](https://remi.flamary.com/cours/otml/bak.png)\n",
    "\n",
    "We extracted from this search their positions and generated fictional production and sale number (that both sum to the same value).\n",
    "\n",
    "We have access to the position of Bakeries ```bakery_pos``` and their respective production ```bakery_prod``` which describe the source distribution. The Cafés where the croissants are sold are defined also by their position ```cafe_pos``` and ```cafe_prod```. For fun, we also provide a map ```Imap``` that will illustrate the position of these shops in the city.\n",
    "\n",
    "\n",
    "Now we load the data:"
   ]
  },
  {
   "cell_type": "code",
   "execution_count": null,
   "metadata": {},
   "outputs": [],
   "source": [
    "data=np.load('data/manhattan.npz')\n",
    "\n",
    "bakery_pos=data['bakery_pos']\n",
    "bakery_prod=data['bakery_prod']\n",
    "cafe_pos=data['cafe_pos']\n",
    "cafe_prod=data['cafe_prod']\n",
    "Imap=data['Imap']\n",
    "\n",
    "print('Bakery production: {}'.format(bakery_prod))\n",
    "print('Cafe sale: {}'.format(cafe_prod))\n",
    "print('Total croissants : {}'.format(cafe_prod.sum()))"
   ]
  },
  {
   "cell_type": "markdown",
   "metadata": {},
   "source": [
    "#### Plotting bakeries in the city\n",
    "\n",
    "Next, we plot the position of the bakeries and cafés on the map. The size of the circle is proportional to its production."
   ]
  },
  {
   "cell_type": "code",
   "execution_count": null,
   "metadata": {},
   "outputs": [],
   "source": [
    "pl.figure(1,(8,7))\n",
    "pl.clf()\n",
    "pl.imshow(Imap,interpolation='bilinear') # plot the map\n",
    "pl.scatter(bakery_pos[:,0],bakery_pos[:,1],s=bakery_prod,c='r', edgecolors='k',label='Bakeries')\n",
    "pl.scatter(cafe_pos[:,0],cafe_pos[:,1],s=cafe_prod,c='b', edgecolors='k',label='Cafés')\n",
    "pl.legend()\n",
    "pl.title('Manhattan Bakeries and Cafés');"
   ]
  },
  {
   "cell_type": "markdown",
   "metadata": {},
   "source": [
    "#### Cost matrix\n",
    "\n",
    "\n",
    "We compute the cost matrix between the bakeries and the cafés, this will be the transport cost matrix. This can be done using the [ot.dist](http://pot.readthedocs.io/en/stable/all.html#ot.dist) that defaults to squared euclidean distance but can return other things such as cityblock (or manhattan distance). \n",
    "\n"
   ]
  },
  {
   "cell_type": "code",
   "execution_count": null,
   "metadata": {},
   "outputs": [],
   "source": [
    "# Your code below\n",
    "\n",
    "\n",
    "\n",
    "\n",
    "\n",
    "\n",
    "# Click or Run the \"...\" to show a possible solution"
   ]
  },
  {
   "cell_type": "code",
   "execution_count": null,
   "metadata": {
    "jupyter": {
     "source_hidden": true
    }
   },
   "outputs": [],
   "source": [
    "C=ot.dist(bakery_pos,cafe_pos,'sqeuclidean')\n",
    "C=ot.dist(bakery_pos,cafe_pos,'cityblock')\n",
    "pl.figure(3,(7,7))\n",
    "pl.imshow(C);\n",
    "pl.xlabel('Cafés')\n",
    "pl.ylabel('Bakeries')\n",
    "pl.title('Cost matrix')\n",
    "pl.colorbar()"
   ]
  },
  {
   "cell_type": "markdown",
   "metadata": {},
   "source": [
    "#### Solving the OT problem with [ot.emd](http://pot.readthedocs.io/en/stable/all.html#ot.emd)"
   ]
  },
  {
   "cell_type": "code",
   "execution_count": null,
   "metadata": {},
   "outputs": [],
   "source": [
    "# Your code below\n",
    "\n",
    "\n",
    "\n",
    "\n",
    "\n",
    "\n",
    "# Click or Run the \"...\" to show a possible solution"
   ]
  },
  {
   "cell_type": "code",
   "execution_count": null,
   "metadata": {
    "jupyter": {
     "source_hidden": true
    }
   },
   "outputs": [],
   "source": [
    "G=ot.emd(bakery_prod,cafe_prod,C)\n",
    "\n",
    "pl.figure(4,(14,7))\n",
    "\n",
    "pl.subplot(1,2,1)\n",
    "pl.imshow(C);\n",
    "pl.xlabel('Cafés')\n",
    "pl.ylabel('Bakeries')\n",
    "pl.title('Cost matrix')\n",
    "pl.colorbar();\n",
    "\n",
    "\n",
    "pl.subplot(1,2,2)\n",
    "pl.imshow(G);\n",
    "pl.xlabel('Cafés')\n",
    "pl.ylabel('Bakeries')\n",
    "pl.title('OT matrix')\n",
    "pl.colorbar();\n",
    "\n",
    "#np.abs(G-G2).max()"
   ]
  },
  {
   "cell_type": "markdown",
   "metadata": {},
   "source": [
    "#### Transportation plan vizualization\n",
    "\n",
    "A good visualization of the OT matrix in the 2D plane is to denote the transportation of mass between a Bakery and a Café by a line. This can easily be done with a double ```for``` loop.\n",
    "\n",
    "In order to make it more interpretable one can also use the ```alpha``` parameter of plot and set it to ```alpha=G[i,j]/G[i,j].max()```. "
   ]
  },
  {
   "cell_type": "code",
   "execution_count": null,
   "metadata": {},
   "outputs": [],
   "source": [
    "# Your code below\n",
    "\n",
    "\n",
    "\n",
    "\n",
    "\n",
    "\n",
    "# Click or Run the \"...\" to show a possible solution"
   ]
  },
  {
   "cell_type": "code",
   "execution_count": null,
   "metadata": {
    "jupyter": {
     "source_hidden": true
    }
   },
   "outputs": [],
   "source": [
    "thr=0.1\n",
    "mx=G.max()\n",
    "pl.figure(5,(8,7))\n",
    "pl.clf()\n",
    "pl.imshow(Imap,interpolation='bilinear') # plot the map\n",
    "pl.scatter(bakery_pos[:,0],bakery_pos[:,1],s=bakery_prod,c='r', edgecolors='k',label='Bakeries')\n",
    "pl.scatter(cafe_pos[:,0],cafe_pos[:,1],s=cafe_prod,c='b', edgecolors='k',label='Cafés')\n",
    "for i in range(G.shape[0]):\n",
    "    for j in range(G.shape[1]):\n",
    "        if G[i,j]>thr:\n",
    "            pl.plot([bakery_pos[i,0],cafe_pos[j,0]],[bakery_pos[i,1],cafe_pos[j,1]],'k',alpha=G[i,j]/mx)\n",
    "        \n",
    "pl.legend()\n",
    "pl.title('Transport between Bakeries and Cafés')"
   ]
  },
  {
   "cell_type": "markdown",
   "metadata": {},
   "source": [
    "#### OT loss and dual variables\n",
    "\n",
    "The resulting Wasserstein loss is of the form:\n",
    "\n",
    "$W=\\sum_{i,j}\\gamma_{i,j}C_{i,j}$\n",
    "\n",
    "where $\\gamma$ is the optimal transport matrix."
   ]
  },
  {
   "cell_type": "code",
   "execution_count": null,
   "metadata": {},
   "outputs": [],
   "source": [
    "# Your code below\n",
    "\n",
    "\n",
    "\n",
    "\n",
    "\n",
    "\n",
    "# Click or Run the \"...\" to show a possible solution"
   ]
  },
  {
   "cell_type": "code",
   "execution_count": null,
   "metadata": {
    "jupyter": {
     "source_hidden": true
    }
   },
   "outputs": [],
   "source": [
    "loss=np.sum(C*G)\n",
    "\n",
    "loss"
   ]
  },
  {
   "cell_type": "markdown",
   "metadata": {},
   "source": [
    "#### Regularized OT with Sinkhorn\n",
    "\n",
    "The Sinkhorn algorithm is very simple to code. You can implement it directly using the following pseudo-code:\n",
    "\n",
    "![sinkhorn.png](http://remi.flamary.com/cours/otml/sink.png)\n",
    "\n",
    "An alternative is to use the POT toolbox with [ot.sinkhorn](http://pot.readthedocs.io/en/stable/all.html#ot.sinkhorn)\n",
    "\n",
    "Be careful with numerical problems. A good pre-processing for Sinkhorn is to divide the cost matrix ```C``` by its maximum value."
   ]
  },
  {
   "cell_type": "code",
   "execution_count": null,
   "metadata": {},
   "outputs": [],
   "source": [
    "# Your code below\n",
    "\n",
    "\n",
    "\n",
    "\n",
    "\n",
    "\n",
    "# Click or Run the \"...\" to show a possible solution"
   ]
  },
  {
   "cell_type": "code",
   "execution_count": null,
   "metadata": {
    "jupyter": {
     "source_hidden": true
    }
   },
   "outputs": [],
   "source": [
    "reg=1e-2\n",
    "\n",
    "C0=C/C.max()\n",
    "\n",
    "#G0=ot.sinkhorn(bakery_prod,cafe_prod,C0,reg)\n",
    "\n",
    "K=np.exp(-C0/reg)\n",
    "G=K\n",
    "niter=100\n",
    "u=np.ones(C.shape[0])\n",
    "for i in range(niter):\n",
    "    v=cafe_prod/K.T.dot(u)\n",
    "    u=bakery_prod/K.dot(v)\n",
    "G=u[:,None]*K*v[None,:]\n",
    "\n",
    "loss=np.sum(C*G)\n",
    "\n",
    "\n",
    "\n",
    "pl.figure(4,(14,7))\n",
    "\n",
    "pl.subplot(1,2,1)\n",
    "pl.imshow(C);\n",
    "pl.xlabel('Cafés')\n",
    "pl.ylabel('Bakeries')\n",
    "pl.title('Cost matrix')\n",
    "pl.colorbar();\n",
    "\n",
    "\n",
    "pl.subplot(1,2,2)\n",
    "pl.imshow(G);\n",
    "pl.xlabel('Cafés')\n",
    "pl.ylabel('Bakeries')\n",
    "pl.title('OT matrix')\n",
    "pl.colorbar();\n",
    "\n",
    "\n",
    "thr=0.1\n",
    "mx=G.max()\n",
    "pl.figure(5,(8,7))\n",
    "pl.clf()\n",
    "pl.imshow(Imap,interpolation='bilinear') # plot the map\n",
    "pl.scatter(bakery_pos[:,0],bakery_pos[:,1],s=bakery_prod,c='r', edgecolors='k',label='Bakeries')\n",
    "pl.scatter(cafe_pos[:,0],cafe_pos[:,1],s=cafe_prod,c='b', edgecolors='k',label='Cafés')\n",
    "for i in range(G.shape[0]):\n",
    "    for j in range(G.shape[1]):\n",
    "        if G[i,j]>thr:\n",
    "            pl.plot([bakery_pos[i,0],cafe_pos[j,0]],[bakery_pos[i,1],cafe_pos[j,1]],'k',alpha=G[i,j]/mx)\n",
    "        \n",
    "pl.legend()\n",
    "pl.title('Transport between Bakeries and Cafés');\n",
    "#np.abs(G-G2).max()\n",
    "\n",
    "loss"
   ]
  }
 ],
 "metadata": {
  "celltoolbar": "Slideshow",
  "kernelspec": {
   "display_name": "Python 3",
   "language": "python",
   "name": "python3"
  },
  "language_info": {
   "codemirror_mode": {
    "name": "ipython",
    "version": 3
   },
   "file_extension": ".py",
   "mimetype": "text/x-python",
   "name": "python",
   "nbconvert_exporter": "python",
   "pygments_lexer": "ipython3",
   "version": "3.7.7"
  },
  "livereveal": {
   "header_not": "<h1>Introduction à Python</h1>",
   "scroll": true,
   "transition": "none"
  }
 },
 "nbformat": 4,
 "nbformat_minor": 4
}
