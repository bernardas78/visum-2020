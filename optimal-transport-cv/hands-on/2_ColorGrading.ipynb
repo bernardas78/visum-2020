{
 "cells": [
  {
   "cell_type": "markdown",
   "metadata": {},
   "source": [
    "# Color grading with optimal transport\n",
    "\n",
    "#### *Nicolas Courty, Rémi Flamary*"
   ]
  },
  {
   "cell_type": "markdown",
   "metadata": {},
   "source": [
    "In this tutorial, we will learn how to perform colour grading of images with optimal transport. This is somehow a very direct usage of optimal transport. You will learn how to treat an image as an empirical distribution and apply optimal transport to find matching between two different images seen as distributions."
   ]
  },
  {
   "cell_type": "markdown",
   "metadata": {},
   "source": [
    "First, we need to load two images. \n",
    "To this end we need some packages:"
   ]
  },
  {
   "cell_type": "code",
   "execution_count": null,
   "metadata": {},
   "outputs": [],
   "source": [
    "# You need to install Pillow first \n",
    "# Uncomment the next lines to do so\n",
    "# !pip install --upgrade pip\n",
    "# !pip install --upgrade Pillow\n",
    "\n",
    "# Import libraries\n",
    "import numpy as np\n",
    "import matplotlib.pylab as pl\n",
    "from matplotlib.pyplot import imread\n",
    "from mpl_toolkits.mplot3d import Axes3D\n",
    "\n",
    "I1 = imread('./data/klimt.jpg').astype(np.float64) / 256\n",
    "I2 = imread('./data/schiele.jpg').astype(np.float64) / 256"
   ]
  },
  {
   "cell_type": "markdown",
   "metadata": {},
   "source": [
    "We need some code to visualize them:"
   ]
  },
  {
   "cell_type": "code",
   "execution_count": null,
   "metadata": {},
   "outputs": [],
   "source": [
    "def showImage(I,myPreferredFigsize=(8,8)):\n",
    "    pl.figure(figsize=myPreferredFigsize)\n",
    "    pl.imshow(I)\n",
    "    pl.axis('off')\n",
    "    pl.tight_layout()\n",
    "    pl.show()"
   ]
  },
  {
   "cell_type": "code",
   "execution_count": null,
   "metadata": {},
   "outputs": [],
   "source": [
    "showImage(I1)\n",
    "showImage(I2)"
   ]
  },
  {
   "cell_type": "markdown",
   "metadata": {},
   "source": [
    "Those are two beautiful paintings of respectively Gustav Klimt and Egon Schiele. Now we will treat them as empirical distributions."
   ]
  },
  {
   "cell_type": "markdown",
   "metadata": {},
   "source": [
    "Write two functions that will be used to convert 2D images as arrays of 3D points (in the colour space), and back:"
   ]
  },
  {
   "cell_type": "code",
   "execution_count": null,
   "metadata": {},
   "outputs": [],
   "source": [
    "def im2mat(I):\n",
    "    \"\"\"Converts an image to matrix (one pixel per line)\"\"\"\n",
    "    return I.reshape((I.shape[0] * I.shape[1], I.shape[2]))\n",
    "\n",
    "\n",
    "def mat2im(X, shape):\n",
    "    \"\"\"Converts back a matrix to an image\"\"\"\n",
    "    return X.reshape(shape)\n",
    "\n",
    "X1 = im2mat(I1)\n",
    "X2 = im2mat(I2)"
   ]
  },
  {
   "cell_type": "markdown",
   "metadata": {},
   "source": [
    "It is unlikely that our solver, as efficient it can be, can handle so large distributions (1Mx1M for the coupling). We will use the Mini batch k-means procedure from ```sklearn```  to subsample those distributions. Write the code that performs this subsampling (you can choose a size of 1000 clusters to have a good approximation of the image):"
   ]
  },
  {
   "cell_type": "code",
   "execution_count": null,
   "metadata": {},
   "outputs": [],
   "source": [
    "import sklearn.cluster as skcluster\n",
    "nbsamples=1000\n",
    "clust1 = skcluster.MiniBatchKMeans(n_clusters=nbsamples,init_size=3000).fit(X1)\n",
    "Xs = clust1.cluster_centers_ \n",
    "clust2 = skcluster.MiniBatchKMeans(n_clusters=nbsamples,init_size=3000).fit(X2)\n",
    "Xt = clust2.cluster_centers_"
   ]
  },
  {
   "cell_type": "markdown",
   "metadata": {},
   "source": [
    "You can use the following procedure to display them as point clouds:"
   ]
  },
  {
   "cell_type": "code",
   "execution_count": null,
   "metadata": {},
   "outputs": [],
   "source": [
    "def showImageAsPointCloud(X,myPreferredFigsize=(8,8)):\n",
    "    fig = pl.figure(figsize=myPreferredFigsize)\n",
    "    ax = fig.add_subplot(111, projection='3d')\n",
    "    ax.set_xlim(0,1)\n",
    "    ax.scatter(X[:,0], X[:,1], X[:,2], c=X, marker='o', alpha=1.0)\n",
    "    ax.set_xlabel('R',fontsize=22)\n",
    "    ax.set_xticklabels([])\n",
    "    ax.set_ylim(0,1)\n",
    "    ax.set_ylabel('G',fontsize=22)\n",
    "    ax.set_yticklabels([])\n",
    "    ax.set_zlim(0,1)\n",
    "    ax.set_zlabel('B',fontsize=22)\n",
    "    ax.set_zticklabels([])\n",
    "    ax.grid('off')\n",
    "    pl.show()"
   ]
  },
  {
   "cell_type": "code",
   "execution_count": null,
   "metadata": {},
   "outputs": [],
   "source": [
    "# Your code below\n",
    "\n",
    "\n",
    "\n",
    "\n",
    "# Click or Run the \"...\" to show a possible solution."
   ]
  },
  {
   "cell_type": "code",
   "execution_count": null,
   "metadata": {
    "jupyter": {
     "source_hidden": true
    }
   },
   "outputs": [],
   "source": [
    "# Check the shape of Xs\n",
    "print(Xs.shape)\n",
    "\n",
    "# Use the previous function to show Xs and Xt\n",
    "showImageAsPointCloud(Xs)\n",
    "showImageAsPointCloud(Xt)"
   ]
  },
  {
   "cell_type": "markdown",
   "metadata": {},
   "source": [
    "You can now compute the coupling between those two distributions using the exact LP solver (EMD):"
   ]
  },
  {
   "cell_type": "code",
   "execution_count": null,
   "metadata": {},
   "outputs": [],
   "source": [
    "# Your code below\n",
    "\n",
    "\n",
    "\n",
    "\n",
    "# Click or Run the \"...\" to show a possible solution."
   ]
  },
  {
   "cell_type": "code",
   "execution_count": null,
   "metadata": {
    "jupyter": {
     "source_hidden": true
    }
   },
   "outputs": [],
   "source": [
    "import ot\n",
    "\n",
    "mu_s = ot.unif(nbsamples)\n",
    "mu_t = ot.unif(nbsamples)\n",
    "M = ot.dist(Xs,Xt,\"sqeuclidean\")\n",
    "G = ot.emd(mu_s,mu_t, M)"
   ]
  },
  {
   "cell_type": "markdown",
   "metadata": {},
   "source": [
    "Using the barycentric mapping method, express the transformation of both images into the other one:"
   ]
  },
  {
   "cell_type": "code",
   "execution_count": null,
   "metadata": {},
   "outputs": [],
   "source": [
    "# Your code below\n",
    "\n",
    "\n",
    "\n",
    "\n",
    "# Click or Run the \"...\" to show a possible solution."
   ]
  },
  {
   "cell_type": "code",
   "execution_count": null,
   "metadata": {
    "jupyter": {
     "source_hidden": true
    }
   },
   "outputs": [],
   "source": [
    "newXs=nbsamples*G.dot(Xt)\n",
    "showImageAsPointCloud(newXs)\n",
    "\n",
    "newXt=nbsamples*G.T.dot(Xs)\n",
    "newXt[newXt>1]=1\n",
    "showImageAsPointCloud(newXt)"
   ]
  },
  {
   "cell_type": "markdown",
   "metadata": {},
   "source": [
    "Since only the centroid of clusters has changed, we need to figure out a simple way of transporting all the pixels in the original image. At first, we will apply a simple strategy where the new value of the pixel corresponds simply to the new position of its corresponding centroid."
   ]
  },
  {
   "cell_type": "markdown",
   "metadata": {},
   "source": [
    "Express this transformation in your code, and display the corresponding adapted image:"
   ]
  },
  {
   "cell_type": "code",
   "execution_count": null,
   "metadata": {},
   "outputs": [],
   "source": [
    "# Your code below\n",
    "\n",
    "\n",
    "\n",
    "\n",
    "# Click or Run the \"...\" to show a possible solution."
   ]
  },
  {
   "cell_type": "code",
   "execution_count": null,
   "metadata": {
    "jupyter": {
     "source_hidden": true
    }
   },
   "outputs": [],
   "source": [
    "newX1 = newXs[clust1.predict(X1),:]\n",
    "showImage(mat2im(newX1,I1.shape))\n",
    "\n",
    "newX2 = newXt[clust2.predict(X2),:]\n",
    "showImage(mat2im(newX2,I2.shape))"
   ]
  },
  {
   "cell_type": "markdown",
   "metadata": {},
   "source": [
    "You can use also the entropy regularized version of Optimal Transport (a.k.a. the Sinkhorn algorithm) to explore the impact of regularization on the final result:"
   ]
  },
  {
   "cell_type": "code",
   "execution_count": null,
   "metadata": {},
   "outputs": [],
   "source": [
    "# Your code below\n",
    "\n",
    "\n",
    "\n",
    "\n",
    "# Click or Run the \"...\" to show a possible solution."
   ]
  },
  {
   "cell_type": "code",
   "execution_count": null,
   "metadata": {
    "jupyter": {
     "source_hidden": true
    }
   },
   "outputs": [],
   "source": [
    "for reg in np.logspace(-3,0,4):\n",
    "    G = ot.bregman.sinkhorn(mu_s,mu_t, M, reg)\n",
    "    newXs=nbsamples*G.dot(Xt)\n",
    "    showImageAsPointCloud(newXs)\n",
    "    newX1 = newXs[clust1.predict(X1),:]\n",
    "    showImage(mat2im(newX1,I1.shape))"
   ]
  }
 ],
 "metadata": {
  "kernelspec": {
   "display_name": "Python 3",
   "language": "python",
   "name": "python3"
  },
  "language_info": {
   "codemirror_mode": {
    "name": "ipython",
    "version": 3
   },
   "file_extension": ".py",
   "mimetype": "text/x-python",
   "name": "python",
   "nbconvert_exporter": "python",
   "pygments_lexer": "ipython3",
   "version": "3.7.7"
  }
 },
 "nbformat": 4,
 "nbformat_minor": 4
}
